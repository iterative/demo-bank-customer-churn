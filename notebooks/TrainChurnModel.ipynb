{
 "cells": [
  {
   "cell_type": "code",
   "execution_count": null,
   "id": "impaired-stylus",
   "metadata": {},
   "outputs": [],
   "source": [
    "import os\n",
    "from pathlib import Path\n",
    "\n",
    "import pandas as pd\n",
    "from joblib import dump\n",
    "from lightgbm import LGBMClassifier\n",
    "from sklearn.metrics import f1_score, roc_auc_score\n",
    "from sklearn.model_selection import train_test_split"
   ]
  },
  {
   "cell_type": "code",
   "execution_count": null,
   "id": "accepting-wallet",
   "metadata": {},
   "outputs": [],
   "source": [
    "proj_path = Path(os.getcwd()).parent.absolute()\n",
    "churn_filepath = proj_path/'data'/'Churn_Modelling.csv'"
   ]
  },
  {
   "cell_type": "code",
   "execution_count": null,
   "id": "continued-juvenile",
   "metadata": {},
   "outputs": [],
   "source": [
    "df = pd.read_csv(churn_filepath)\n",
    "df.head()"
   ]
  },
  {
   "cell_type": "code",
   "execution_count": null,
   "id": "bb0d9f24",
   "metadata": {},
   "outputs": [],
   "source": [
    "df.shape"
   ]
  },
  {
   "cell_type": "code",
   "execution_count": null,
   "id": "unnecessary-roots",
   "metadata": {},
   "outputs": [],
   "source": [
    "# Are there missing values?\n",
    "df.isna().sum()"
   ]
  },
  {
   "cell_type": "code",
   "execution_count": null,
   "id": "b025ccce",
   "metadata": {},
   "outputs": [],
   "source": [
    "df['Geography'].value_counts()"
   ]
  },
  {
   "cell_type": "code",
   "execution_count": null,
   "id": "scheduled-measure",
   "metadata": {},
   "outputs": [],
   "source": [
    "cat_cols = ['Geography', 'Gender']\n",
    "num_cols = ['CreditScore', 'Age', 'Tenure', \n",
    "               'Balance', 'NumOfProducts', 'HasCrCard',\n",
    "               'IsActiveMember', 'EstimatedSalary']\n",
    "targ_col = 'Exited'"
   ]
  },
  {
   "cell_type": "code",
   "execution_count": null,
   "id": "junior-rating",
   "metadata": {},
   "outputs": [],
   "source": [
    "X, y = df[cat_cols + num_cols], df[targ_col]\n",
    "\n",
    "for cat_col in cat_cols:\n",
    "    X[cat_col] = X[cat_col].astype(\"category\")"
   ]
  },
  {
   "cell_type": "code",
   "execution_count": null,
   "id": "c4d476a6",
   "metadata": {},
   "outputs": [],
   "source": [
    "y.mean()"
   ]
  },
  {
   "cell_type": "code",
   "execution_count": null,
   "id": "historic-doubt",
   "metadata": {},
   "outputs": [],
   "source": [
    "X_train, X_test, y_train, y_test = train_test_split(X, y, test_size=0.25, random_state=42)"
   ]
  },
  {
   "cell_type": "code",
   "execution_count": null,
   "id": "infinite-african",
   "metadata": {},
   "outputs": [],
   "source": [
    "clf = LGBMClassifier()\n",
    "clf.fit(X_train, y_train)"
   ]
  },
  {
   "cell_type": "code",
   "execution_count": null,
   "id": "355e6b29",
   "metadata": {},
   "outputs": [],
   "source": [
    "y_prob = clf.predict_proba(X_test)\n",
    "y_pred = y_prob[:, 1] >= 0.5"
   ]
  },
  {
   "cell_type": "code",
   "execution_count": null,
   "id": "66a27f73",
   "metadata": {},
   "outputs": [],
   "source": [
    "f1_score(y_test, y_pred)"
   ]
  },
  {
   "cell_type": "code",
   "execution_count": null,
   "id": "33561237",
   "metadata": {},
   "outputs": [],
   "source": [
    "roc_auc_score(y_test, y_prob[:, 1])"
   ]
  },
  {
   "cell_type": "code",
   "execution_count": null,
   "id": "721b4265",
   "metadata": {},
   "outputs": [],
   "source": [
    "df_test = X_test\n",
    "df_test['true'] = y_test\n",
    "df_test['pred'] = y_pred\n",
    "df_test"
   ]
  },
  {
   "cell_type": "code",
   "execution_count": null,
   "id": "5a5296d1",
   "metadata": {},
   "outputs": [],
   "source": [
    "df_test.groupby('Geography')[['true', 'pred']].apply(lambda x: f1_score(x['true'], x['pred']))"
   ]
  },
  {
   "cell_type": "code",
   "execution_count": null,
   "id": "945df466",
   "metadata": {},
   "outputs": [],
   "source": [
    "model_path = proj_path/'models'\n",
    "model_path.mkdir(exist_ok=True)\n",
    "dump(clf, model_path/'clf.joblib')"
   ]
  },
  {
   "cell_type": "code",
   "execution_count": null,
   "id": "408dc225",
   "metadata": {},
   "outputs": [],
   "source": []
  }
 ],
 "metadata": {
  "interpreter": {
   "hash": "b0fa6594d8f4cbf19f97940f81e996739fb7646882a419484c72d19e05852a7e"
  },
  "kernelspec": {
   "display_name": "Python (churn)",
   "language": "python",
   "name": "python3"
  },
  "language_info": {
   "codemirror_mode": {
    "name": "ipython",
    "version": 3
   },
   "file_extension": ".py",
   "mimetype": "text/x-python",
   "name": "python",
   "nbconvert_exporter": "python",
   "pygments_lexer": "ipython3",
   "version": "3.9.10"
  }
 },
 "nbformat": 4,
 "nbformat_minor": 5
}
